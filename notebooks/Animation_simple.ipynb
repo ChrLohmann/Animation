{
 "cells": [
  {
   "cell_type": "markdown",
   "metadata": {},
   "source": [
    "# Concentration widget\n",
    "**Get an idea of intra- and extracellular concentrations**"
   ]
  },
  {
   "cell_type": "code",
   "execution_count": 1,
   "metadata": {},
   "outputs": [],
   "source": [
    "import ipywidgets as widgets\n",
    "from IPython.display import display\n",
    "\n",
    "# %matplotlib nbagg\n",
    "\n",
    "%matplotlib widget \n",
    "\n",
    "import matplotlib\n",
    "import matplotlib.pyplot as plt\n",
    "# import matplotlib.image as mpimg\n",
    "\n",
    "import matplotlib.patches as patches\n",
    "# from matplotlib.collections import PatchCollection\n",
    "\n",
    "\n",
    "import numpy as np"
   ]
  },
  {
   "cell_type": "markdown",
   "metadata": {},
   "source": [
    "# Nernst equation"
   ]
  },
  {
   "cell_type": "markdown",
   "metadata": {},
   "source": [
    "The Nernst potential: $E = \\frac{RT}{zF} ln(\\frac{[ion]_o}{[ion]_i})$\n",
    "\n",
    "$R$ is the universal gas constant: $R = 8.314$ $J K^{−1} mol^{−1}$\n",
    "\n",
    "$T$ is the temperature in kelvins\n",
    "\n",
    "$z$ is the number of electrons transferred in the cell reaction or half-reaction. It is -1 for $Cl^-$ for example.\n",
    "\n",
    "$F$ is the Faraday constant, the number of coulombs per mole of electrons: $F = 96485$ $C mol^{−1}$\n"
   ]
  },
  {
   "cell_type": "code",
   "execution_count": 2,
   "metadata": {},
   "outputs": [],
   "source": [
    "constants = {}\n",
    "constants['R'] = 8.314\n",
    "constants['T'] = 36 + 273.15  # Celsius plus kelvins at 0° degrees Celsius\n",
    "constants['F'] = 96485\n",
    "\n",
    "z = {}\n",
    "z['Na'] = 1\n",
    "z['K'] = 1\n",
    "z['Cl'] = -1\n",
    "z['Ca'] = 2"
   ]
  },
  {
   "cell_type": "code",
   "execution_count": 30,
   "metadata": {},
   "outputs": [],
   "source": [
    "def get_nernst_potential(conc_ext, conc_int, ion, constants, z):\n",
    "    \n",
    "    E = constants['R'] * constants['T'] / (z[ion] * constants['F']) * np.log(conc_ext / conc_int) * 1000  # Membrane potential in mV\n",
    "#     print(f'Intracellular {ion} concentration = {conc_int} mM')\n",
    "#     print(f'Extracellular {ion} concentration = {conc_ext} mM')\n",
    "#     print(f'Reversal potential: {np.round(E, 0)} mV')\n",
    "    return E\n",
    "\n",
    "\n",
    "def nernst_plot(ax, Na_ext, Na_int, E=-80):\n",
    "    \n",
    "    ax.clear()\n",
    "    x_ext = np.random.uniform(0, 1, Na_ext)\n",
    "    y_ext = np.random.uniform(0.02, 0.25, Na_ext)\n",
    "    x_int = np.random.uniform(0, 1, Na_int)\n",
    "    y_int = np.random.uniform(-0.25, -0.02, Na_int)\n",
    "    ax.scatter(x_int, y_int, color='orange')\n",
    "    # ax.scatter(x_int, y_int, marker='+', color='black')\n",
    "    ax.scatter(x_ext, y_ext, color='orange')\n",
    "    ax.hlines(0.01, 0, 1, color='black')\n",
    "    ax.hlines(-0.01, 0, 1, color='black')\n",
    "#     channel = patches.Rectangle((0.45, -0.05), 0.05, 0.1, facecolor='orange')\n",
    "#     ax.add_patch(channel)\n",
    "#     channel = patches.Rectangle((0.5, -0.05), 0.05, 0.1, facecolor='orange')\n",
    "#     ax.add_patch(channel)\n",
    "#     # Add the patch to the Axes\n",
    "    ax.set_xlim((0, 1))\n",
    "    ax.set_ylim((-0.25, 0.25))\n",
    "    text = textstr = '\\n'.join((\n",
    "                        f'$[Na^+]_e = $ {Na_ext} mM',\n",
    "                        f'$[Na^+]_i = $ {Na_int} mM',\n",
    "                        '$E_{Na} = $' + f'{E} mV'))\n",
    "    ax.text(0, 0, text, fontsize=12, transform=ax.transAxes, verticalalignment='bottom')\n",
    "            \n",
    "\n",
    "    ax.set_axis_off();"
   ]
  },
  {
   "cell_type": "markdown",
   "metadata": {},
   "source": [
    "## Plot ion distribution"
   ]
  },
  {
   "cell_type": "code",
   "execution_count": 31,
   "metadata": {},
   "outputs": [
    {
     "data": {
      "application/vnd.jupyter.widget-view+json": {
       "model_id": "0ce35a6910a94ccba49e5c6fbe60618e",
       "version_major": 2,
       "version_minor": 0
      },
      "text/plain": [
       "Canvas(toolbar=Toolbar(toolitems=[('Home', 'Reset original view', 'home', 'home'), ('Back', 'Back to previous …"
      ]
     },
     "metadata": {},
     "output_type": "display_data"
    },
    {
     "data": {
      "application/vnd.jupyter.widget-view+json": {
       "model_id": "80e8a464e9d44ad2b8b5021096b29e8b",
       "version_major": 2,
       "version_minor": 0
      },
      "text/plain": [
       "interactive(children=(IntSlider(value=130, description='$[Na^+]_{e} (mM)$', max=200, min=1), IntSlider(value=5…"
      ]
     },
     "metadata": {},
     "output_type": "display_data"
    }
   ],
   "source": [
    "fig, ax = plt.subplots(1, figsize=(9.5,5))\n",
    "\n",
    "def update_plot(Na_ext, Na_int):\n",
    "\n",
    "    global constants, z\n",
    "    ax.clear()\n",
    "    ax.set_axis_off()\n",
    "    E = np.round(get_nernst_potential(Na_ext, Na_int, 'Na', constants, z), 1)\n",
    "    nernst_plot(ax, Na_ext, Na_int, E)\n",
    "#     nernst_plot(ax, Na_ext, Na_int)\n",
    "\n",
    "Na_ext = widgets.IntSlider(min=1, max=200, value=130, description='$[Na^+]_{e} (mM)$')\n",
    "Na_int = widgets.IntSlider(min=1, max=200, value=5, description='$[Na^+]_{i} (mM)$')\n",
    "\n",
    "widgets.interactive(update_plot, Na_ext=Na_ext, Na_int=Na_int)"
   ]
  },
  {
   "cell_type": "code",
   "execution_count": null,
   "metadata": {},
   "outputs": [],
   "source": []
  }
 ],
 "metadata": {
  "kernelspec": {
   "display_name": "Python 3",
   "language": "python",
   "name": "python3"
  },
  "language_info": {
   "codemirror_mode": {
    "name": "ipython",
    "version": 3
   },
   "file_extension": ".py",
   "mimetype": "text/x-python",
   "name": "python",
   "nbconvert_exporter": "python",
   "pygments_lexer": "ipython3",
   "version": "3.8.5"
  },
  "toc-autonumbering": true
 },
 "nbformat": 4,
 "nbformat_minor": 4
}

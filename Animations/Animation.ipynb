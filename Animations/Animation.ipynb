{
 "cells": [
  {
   "cell_type": "markdown",
   "metadata": {},
   "source": [
    "# Widgets for animation of formulas in neuroscience\n",
    "**Tool to make neurobiological concepts more accessible**"
   ]
  },
  {
   "cell_type": "markdown",
   "metadata": {},
   "source": [
    "## Initialize packages "
   ]
  },
  {
   "cell_type": "code",
   "execution_count": 1,
   "metadata": {},
   "outputs": [],
   "source": [
    "import ipywidgets as widgets\n",
    "from IPython.display import display\n",
    "\n",
    "# %matplotlib nbagg\n",
    "\n",
    "%matplotlib widget \n",
    "\n",
    "import matplotlib\n",
    "import matplotlib.pyplot as plt\n",
    "# import matplotlib.image as mpimg\n",
    "\n",
    "import matplotlib.patches as patches\n",
    "# from matplotlib.collections import PatchCollection\n",
    "\n",
    "\n",
    "import numpy as np"
   ]
  },
  {
   "cell_type": "markdown",
   "metadata": {},
   "source": [
    "# Nernst equation animator "
   ]
  },
  {
   "cell_type": "markdown",
   "metadata": {},
   "source": [
    "The Nernst potential: $E = \\frac{RT}{zF} ln(\\frac{[ion]_o}{[ion]_i})$\n",
    "\n",
    "$R$ is the universal gas constant: $R = 8.314$ $J K^{−1} mol^{−1}$\n",
    "\n",
    "$T$ is the temperature in kelvins\n",
    "\n",
    "$z$ is the number of electrons transferred in the cell reaction or half-reaction. It is -1 for $Cl^-$ for example.\n",
    "\n",
    "$F$ is the Faraday constant, the number of coulombs per mole of electrons: $F = 96485$ $C mol^{−1}$\n"
   ]
  },
  {
   "cell_type": "markdown",
   "metadata": {},
   "source": [
    "## Set constants"
   ]
  },
  {
   "cell_type": "code",
   "execution_count": 2,
   "metadata": {},
   "outputs": [],
   "source": [
    "constants = {}\n",
    "constants['R'] = 8.314\n",
    "constants['T'] = 36 + 273.15  # Celsius plus kelvins at 0° degrees Celsius\n",
    "constants['F'] = 96485\n",
    "\n",
    "z = {}\n",
    "z['Na'] = 1\n",
    "z['K'] = 1\n",
    "z['Cl'] = -1\n",
    "z['Ca'] = 2"
   ]
  },
  {
   "cell_type": "markdown",
   "metadata": {},
   "source": [
    "## Functions "
   ]
  },
  {
   "cell_type": "code",
   "execution_count": 3,
   "metadata": {},
   "outputs": [],
   "source": [
    "def get_nernst_potential(conc_int, conc_ext, ion, constants, z):\n",
    "    \n",
    "    E = constants['R'] * constants['T'] / (z[ion] * constants['F']) * np.log(conc_ext / conc_int) * 1000  # Membrane potential in mV\n",
    "    print(f'Intracellular {ion} concentration = {conc_int} mM')\n",
    "    print(f'Extracellular {ion} concentration = {conc_ext} mM')\n",
    "    print(f'Reversal potential: {np.round(E, 0)} mV')\n",
    "    return E\n",
    "\n",
    "\n",
    "def nernst_plot(ax, Na_ext, Na_int):\n",
    "    \n",
    "    ax.clear()\n",
    "    x_ext = np.random.uniform(0, 1, Na_ext)\n",
    "    y_ext = np.random.uniform(0.02, 0.25, Na_ext)\n",
    "    x_int = np.random.uniform(0, 1, Na_int)\n",
    "    y_int = np.random.uniform(-0.25, -0.02, Na_int)\n",
    "    ax.scatter(x_int, y_int, color='orange')\n",
    "    # ax.scatter(x_int, y_int, marker='+', color='black')\n",
    "    ax.scatter(x_ext, y_ext, color='orange')\n",
    "    ax.hlines(0.01, 0, 1, color='black')\n",
    "    ax.hlines(-0.01, 0, 1, color='black')\n",
    "    channel = patches.Rectangle((0.45, -0.05), 0.05, 0.1, facecolor='orange')\n",
    "    ax.add_patch(channel)\n",
    "    channel = patches.Rectangle((0.5, -0.05), 0.05, 0.1, facecolor='orange')\n",
    "    ax.add_patch(channel)\n",
    "    # Add the patch to the Axes\n",
    "    ax.set_xlim((0, 1))\n",
    "    ax.set_ylim((-0.25, 0.25))\n",
    "\n",
    "    ax.set_axis_off();"
   ]
  },
  {
   "cell_type": "markdown",
   "metadata": {},
   "source": [
    "## Plot ion distribution"
   ]
  },
  {
   "cell_type": "code",
   "execution_count": 4,
   "metadata": {},
   "outputs": [
    {
     "data": {
      "application/vnd.jupyter.widget-view+json": {
       "model_id": "134eb85eb2a54db48a592476e09098aa",
       "version_major": 2,
       "version_minor": 0
      },
      "text/plain": [
       "Canvas(toolbar=Toolbar(toolitems=[('Home', 'Reset original view', 'home', 'home'), ('Back', 'Back to previous …"
      ]
     },
     "metadata": {},
     "output_type": "display_data"
    },
    {
     "data": {
      "application/vnd.jupyter.widget-view+json": {
       "model_id": "2b63802719ac4304b04fcc904eb8e7f7",
       "version_major": 2,
       "version_minor": 0
      },
      "text/plain": [
       "interactive(children=(IntSlider(value=130, description='$[Na^+]_{e} (mM)$', max=200, min=1), IntSlider(value=5…"
      ]
     },
     "metadata": {},
     "output_type": "display_data"
    }
   ],
   "source": [
    "fig, ax = plt.subplots(1, figsize=(9.5,5))\n",
    "\n",
    "def update_plot(Na_ext, Na_int):\n",
    "\n",
    "    ax.clear()\n",
    "    ax.set_axis_off()\n",
    "    nernst_plot(ax, Na_ext, Na_int)\n",
    "\n",
    "Na_ext = widgets.IntSlider(min=1, max=200, value=130, description='$[Na^+]_{e} (mM)$')\n",
    "Na_int = widgets.IntSlider(min=1, max=200, value=5, description='$[Na^+]_{i} (mM)$')\n",
    "\n",
    "widgets.interactive(update_plot, Na_ext=Na_ext, Na_int=Na_int)"
   ]
  },
  {
   "cell_type": "code",
   "execution_count": null,
   "metadata": {},
   "outputs": [],
   "source": [
    "Na_int = 5\n",
    "Na_ext = 130\n",
    "E = get_nernst_potential(Na_int, Na_ext, 'Na', constants, z)"
   ]
  },
  {
   "cell_type": "markdown",
   "metadata": {},
   "source": [
    "# Simulate Brownian motion "
   ]
  },
  {
   "cell_type": "markdown",
   "metadata": {},
   "source": [
    "## Plot ion distribution"
   ]
  },
  {
   "cell_type": "code",
   "execution_count": 10,
   "metadata": {},
   "outputs": [
    {
     "data": {
      "application/vnd.jupyter.widget-view+json": {
       "model_id": "8e833f7ed33e48f6818e59a586144332",
       "version_major": 2,
       "version_minor": 0
      },
      "text/plain": [
       "Canvas(toolbar=Toolbar(toolitems=[('Home', 'Reset original view', 'home', 'home'), ('Back', 'Back to previous …"
      ]
     },
     "metadata": {},
     "output_type": "display_data"
    }
   ],
   "source": [
    "from matplotlib.animation import FuncAnimation\n",
    "\n",
    "n_ions = 200\n",
    "μ = 0\n",
    "σ = 0.02\n",
    "τ = 2\n",
    "\n",
    "fig, ax = plt.subplots()\n",
    "ax.set_xlim(0, 1)\n",
    "ax.set_ylim(0, 1)\n",
    "\n",
    "x = np.random.uniform(0, 1, n_ions)\n",
    "y = np.random.uniform(0, 1, n_ions)\n",
    "\n",
    "plot, =  plt.plot(x, y, 'ro')\n",
    "\n",
    "\n",
    "def update(frames, *args):\n",
    "\n",
    "    global x, y\n",
    "    x = x + np.random.normal(μ, σ, n_ions)\n",
    "    y = y + np.random.normal(μ, σ, n_ions)\n",
    "    plot.set_data(x, y)\n",
    "\n",
    "    return plot,\n",
    "\n",
    "ani = FuncAnimation(fig, func=update, frames=20, interval=300, repeat=False)\n",
    "                    \n",
    "plt.show()"
   ]
  }
 ],
 "metadata": {
  "kernelspec": {
   "display_name": "Python 3",
   "language": "python",
   "name": "python3"
  },
  "language_info": {
   "codemirror_mode": {
    "name": "ipython",
    "version": 3
   },
   "file_extension": ".py",
   "mimetype": "text/x-python",
   "name": "python",
   "nbconvert_exporter": "python",
   "pygments_lexer": "ipython3",
   "version": "3.8.5"
  },
  "toc-autonumbering": true
 },
 "nbformat": 4,
 "nbformat_minor": 4
}
